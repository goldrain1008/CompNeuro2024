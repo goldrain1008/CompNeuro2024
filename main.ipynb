{
 "cells": [
  {
   "cell_type": "code",
   "execution_count": 4,
   "metadata": {},
   "outputs": [],
   "source": [
    "## Import repositories\n",
    "import os \n",
    "import numpy as np \n",
    "import pandas as pd\n",
    "import scipy\n",
    "import seaborn as sns\n",
    "import matplotlib.pyplot as plt\n",
    "from utils import get_sample_freq, get_stimulus, get_test_freq"
   ]
  },
  {
   "cell_type": "code",
   "execution_count": 3,
   "metadata": {},
   "outputs": [
    {
     "name": "stdout",
     "output_type": "stream",
     "text": [
      "{0.0: array([ 17.641638,  57.666158, 132.712118, 172.736678, 202.755078,\n",
      "       232.773518, 302.816518, 357.850318, 387.868758, 407.881078,\n",
      "       492.733358, 527.754878, 542.764118, 607.804078, 647.828718,\n",
      "       707.865598]), 20.0: array([ 67.672278,  77.678398, 102.693718, 177.739758, 227.770438,\n",
      "       247.782718, 287.807318, 307.819598, 392.871838, 432.896438,\n",
      "       467.717958, 512.745638, 582.788718, 612.807158, 637.822558,\n",
      "       677.847158]), 40.0: array([ 47.660038,  82.681478, 107.696798, 112.699878, 237.776598,\n",
      "       262.791958, 317.825758, 327.831878, 362.853398, 412.884158,\n",
      "       457.711798, 522.751798, 552.770238, 627.816398, 697.859478,\n",
      "       717.871758]), 60.0: array([  2.632478,  27.647758,  97.690678, 147.721318, 197.752038,\n",
      "       267.794998, 297.813438, 352.847238, 367.856478, 372.859558,\n",
      "       472.721038, 537.761038, 587.791798, 592.794878, 662.837918,\n",
      "       692.856398]), 80.0: array([ 72.675358,  87.684518, 122.705998, 152.724398, 252.785798,\n",
      "       257.788878, 332.834958, 347.844198, 422.890278, 437.899518,\n",
      "       517.748718, 532.757958, 547.767158, 622.813318, 657.834838,\n",
      "       712.868678]), 100.0: array([ 37.653918,  62.669198, 117.702918, 137.715198, 187.745878,\n",
      "       207.758158, 277.801158, 282.804238, 382.865678, 447.705678,\n",
      "       477.724118, 497.736438, 562.776398, 567.779478, 642.825638,\n",
      "       672.844078]), 120.0: array([ 12.638598,  22.644718, 157.727478, 162.730558, 182.742798,\n",
      "       242.779638, 312.822678, 337.838038, 377.862638, 442.902598,\n",
      "       452.708758, 502.739478, 557.773318, 572.782558, 652.831758,\n",
      "       682.850238]), 140.0: array([  7.635518,  52.663078,  92.687598, 127.709078, 192.748958,\n",
      "       222.767358, 292.810358, 322.828798, 417.887238, 427.893358,\n",
      "       482.727198, 507.742558, 577.785638, 597.797918, 632.819478,\n",
      "       667.840998]), 160.0: array([ 32.650838,  42.656958, 142.718278, 167.733598, 212.761238,\n",
      "       217.764318, 272.798078, 342.841118, 397.874918, 402.877998,\n",
      "       462.714878, 487.730278, 602.800998, 617.810238, 687.853318,\n",
      "       702.862558])}\n"
     ]
    }
   ],
   "source": [
    "# Get stimulus dictionary \n",
    "degree_dict = get_stimulus()\n",
    "print(degree_dict)"
   ]
  },
  {
   "cell_type": "code",
   "execution_count": null,
   "metadata": {},
   "outputs": [],
   "source": [
    "os.makedirs('./sample/images', exist_ok=True)\n",
    "os.makedirs('./test/images', exist_ok=True)\n",
    "\n",
    "#Save neuron (sample) data to csv format \n",
    "for i in range(1, 11):\n",
    "    df = get_sample_freq(i)\n",
    "    df.to_csv(f'./sample/sample_spike_neuron{i}.csv', index = False)\n",
    "\n",
    "#Save case (test) data to csv format \n",
    "for i in range(1, 11):\n",
    "    df = get_test_freq(i)\n",
    "    df.to_csv(f'./test/test_spike_case{i}.csv', index = False)\n",
    "\n"
   ]
  },
  {
   "cell_type": "code",
   "execution_count": null,
   "metadata": {},
   "outputs": [],
   "source": [
    "# Save barplots \n",
    "for sample_num in range(1,11):\n",
    "    plt.figure(figsize=(5,5), dpi = 150)\n",
    "    sns.barplot(data = pd.read_csv(f'./sample/sample_spike_neuron{sample_num}.csv'), x = 'Degree', y = 'Frequency').set(title= f'Neuron {sample_num}')\n",
    "    plt.tight_layout()\n",
    "    plt.savefig(f'./sample/images/sample_spike_neuron{sample_num}.png')\n",
    "    plt.close()\n",
    "\n",
    "for num in range(1, 11):\n",
    "    plt.figure(figsize = (5,5), dpi = 150)\n",
    "    sns.barplot(data = pd.read_csv(f'./test/test_spike_case{num}.csv'), x = 'Degree', y = 'Frequency', color='orange').set(title = f'Case {num}')\n",
    "    plt.tight_layout()\n",
    "    plt.savefig(f'./test/images/test_spike_case{num}.png')\n",
    "    plt.close()"
   ]
  },
  {
   "cell_type": "code",
   "execution_count": null,
   "metadata": {},
   "outputs": [],
   "source": [
    "stimulus_raw = scipy.io.loadmat('dat_stimulus.mat')\n",
    "spk_sample_raw = scipy.io.loadmat('dat_spk_sample.mat')\n",
    "spk_test_raw = scipy.io.loadmat('dat_spk_test.mat')\n",
    "\n",
    "stimulus = stimulus_raw['stimulus']\n",
    "spk_sample = spk_sample_raw['spk_sample']\n",
    "spk_test = spk_test_raw['spk_test']\n",
    "\n",
    "sample_num = 9\n",
    "\n",
    "\n",
    "start_gap = 0.1\n",
    "window_size = 2\n",
    "end_time = start_gap + window_size\n",
    "sample = spk_sample[sample_num-1,0]\n",
    "\n",
    "#index = \n",
    "for key in degree_dict:\n",
    "    print(key)\n",
    "    stim_list = degree_dict[key]\n",
    "    assert len(stim_list) == 16\n",
    "    frequency_list = []\n",
    "    for stim_time in stim_list:\n",
    "        if (stim_time >= 50) & (stim_time <= 350):\n",
    "            frequency = len(sample[(sample > (stim_time+start_gap)) & (sample <= (stim_time + end_time))]) / window_size\n",
    "            frequency_list.append(frequency)\n",
    "        #else:\n",
    "        #    continue\n",
    "    print(frequency_list)\n",
    "    print(np.round(np.mean(frequency_list), 3), np.round(np.std(frequency_list), 3))"
   ]
  },
  {
   "cell_type": "code",
   "execution_count": null,
   "metadata": {},
   "outputs": [],
   "source": [
    "#Statistical test \n",
    "from scipy.stats import ttest_ind\n",
    "\n",
    "significance_level = 0.1\n",
    "for test_num in range(1, 11):\n",
    "    test_spike = pd.read_csv(f'./test/test_spike_case{test_num}.csv')\n",
    "    for i in range(1, 11):\n",
    "        sample_spike = pd.read_csv(f'./sample/sample_spike_neuron{i}.csv')\n",
    "        p_list = []\n",
    "        for degree in np.unique(stimulus[:,1]):\n",
    "            test = test_spike[test_spike['Degree'] == int(degree)]['Frequency']\n",
    "            sample = sample_spike[sample_spike['Degree'] == int(degree)]['Frequency']\n",
    "            _, p = ttest_ind(test, sample)\n",
    "            p_list.append(p >= significance_level)\n",
    "        #print(sum(p_list))\n",
    "        if sum(p_list) > 7:\n",
    "        #if all(p_list):\n",
    "            print(f'Case {test_num} matches with Neuron {i}')"
   ]
  },
  {
   "cell_type": "code",
   "execution_count": null,
   "metadata": {},
   "outputs": [],
   "source": [
    "\n",
    "from scipy.stats import entropy\n",
    "\n",
    "def to_density(spike):\n",
    "    pdf = []\n",
    "    stimulus = scipy.io.loadmat('dat_stimulus.mat')['stimulus']\n",
    "    for degree in np.unique(stimulus[:,1]):\n",
    "        pdf.append(spike[spike['Degree'] == int(degree)]['Frequency'].mean() + 1e-6)\n",
    "    \n",
    "    pdf = np.asarray(pdf) \n",
    "    pdf /= (np.sum(pdf) + len(pdf)*1e-6)\n",
    "    return pdf\n",
    "\n",
    "for test_num in range(1, 11):\n",
    "    test_spike = pd.read_csv(f'./test/test_spike_case{test_num}.csv')\n",
    "    test_pdf = to_density(test_spike)\n",
    "\n",
    "    KLdiv_list = []\n",
    "    for i in range(1, 11):\n",
    "        sample_spike = pd.read_csv(f'./sample/sample_spike_neuron{i}.csv')\n",
    "        sample_pdf = to_density(sample_spike)\n",
    "        KLdiv = entropy(pk=sample_pdf, qk = test_pdf)\n",
    "        KLdiv_list.append(KLdiv)\n",
    "    print(f'Case {test_num} matches with Neuron {np.argmin(KLdiv_list) + 1}') "
   ]
  }
 ],
 "metadata": {
  "kernelspec": {
   "display_name": "Python 3",
   "language": "python",
   "name": "python3"
  },
  "language_info": {
   "codemirror_mode": {
    "name": "ipython",
    "version": 3
   },
   "file_extension": ".py",
   "mimetype": "text/x-python",
   "name": "python",
   "nbconvert_exporter": "python",
   "pygments_lexer": "ipython3",
   "version": "3.11.3"
  }
 },
 "nbformat": 4,
 "nbformat_minor": 2
}
