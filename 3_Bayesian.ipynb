{
 "cells": [
  {
   "cell_type": "code",
   "execution_count": 5,
   "metadata": {},
   "outputs": [
    {
     "name": "stdout",
     "output_type": "stream",
     "text": [
      "[  0.  20.  40.  60.  80. 100. 120. 140. 160.]\n"
     ]
    }
   ],
   "source": [
    "import numpy as np\n",
    "import scipy\n",
    "import pandas as pd \n",
    "import seaborn as sns\n",
    "import matplotlib.pyplot as plt\n",
    "from itertools import product\n",
    "import os\n",
    "from utils import get_sample_freq, get_test_freq, get_stimulus, remove_outliers\n",
    "\n",
    "mode = 'Frequency'\n",
    "starting_point = 1.0\n",
    "window_size = 2.5\n",
    "\n",
    "sample_path = f'./sample_{mode}/data_sp{starting_point}ws{window_size}/sample_spike_neuron'\n",
    "test_path = f'./test_{mode}/data_sp{starting_point}ws{window_size}/test_spike_case'\n",
    "\n",
    "#starting_point_types = [0,0.1,0.2,0.3,0.4,0.5,0.6,0.7,0.8,0.9,1.]\n",
    "#window_size_types = [1,1.5,2,2.5,3,3.5,4]\n",
    "\n",
    "stimulus_raw = scipy.io.loadmat('dat_stimulus.mat')\n",
    "spk_sample_raw = scipy.io.loadmat('dat_spk_sample.mat')\n",
    "spk_test_raw = scipy.io.loadmat('dat_spk_test.mat')\n",
    "\n",
    "stimulus = stimulus_raw['stimulus']\n",
    "spk_sample = spk_sample_raw['spk_sample']\n",
    "spk_test = spk_test_raw['spk_test']\n",
    "\n",
    "degrees = np.unique(stimulus[:,1])\n",
    "print(degrees)"
   ]
  },
  {
   "cell_type": "code",
   "execution_count": 6,
   "metadata": {},
   "outputs": [],
   "source": [
    "def get_data(i, type = 'Neuron'):\n",
    "    if type.lower() == 'neuron':\n",
    "        return pd.read_csv(sample_path + f'{i}.csv')\n",
    "    elif type.lower() == 'case':\n",
    "        return pd.read_csv(test_path + f'{i}.csv')"
   ]
  },
  {
   "cell_type": "code",
   "execution_count": 12,
   "metadata": {},
   "outputs": [],
   "source": [
    "##make_binomial\n",
    "def get_likelihood(df, percentile_threshold = 50):\n",
    "    result = {}\n",
    "    thr = np.percentile(df[mode].values, q = percentile_threshold)\n",
    "    for degree in degrees:\n",
    "        l = (df[df['Degree'] == int(degree)][mode].values > thr)*1\n",
    "        result[int(degree)] = l\n",
    "    return result\n",
    "\n",
    "Neurons = {}\n",
    "for n in np.arange(1,11):\n",
    "    df = get_data(n, type = 'Neuron')\n",
    "    Neurons[n] = get_likelihood(df)\n",
    "\n",
    "Cases = {}\n",
    "for n in np.arange(1,11):\n",
    "    df = get_data(n, type = 'Case')\n",
    "    Cases[n] = get_likelihood(df)"
   ]
  },
  {
   "cell_type": "markdown",
   "metadata": {},
   "source": [
    "Bayes rule: posterior = likelihood * prior / evidence\n",
    "evidence 는 구하기 힘듦으로 보통 posterior 가 likelihood * prior에 비례한다고 많이 함.\n",
    "\n",
    "Beta Distribution & Binomial-Beta conjugacy \n",
    "\n",
    "Conjugacy prior: "
   ]
  },
  {
   "cell_type": "code",
   "execution_count": 21,
   "metadata": {},
   "outputs": [],
   "source": [
    "from math import sqrt\n",
    "\n",
    "a0 = 2.\n",
    "b0 = 2.\n",
    "\n",
    "def get_posterior(data_dict, a0 = 2., b0 = 2.):\n",
    "    Mean = []\n",
    "    Std = []\n",
    "\n",
    "    for i in data_dict:\n",
    "        l = data_dict[i]\n",
    "        l_mean = []\n",
    "        l_std = []\n",
    "        for degree in degrees:\n",
    "            n = len(l[degree])\n",
    "            s = sum(l[degree])\n",
    "            f = n - s\n",
    "\n",
    "            a_post = a0 + s\n",
    "            b_post = b0 + f\n",
    "\n",
    "            mu_post = a_post / (a_post + b_post)\n",
    "            sig_post = sqrt((a_post*b_post)/(((a_post + b_post)**2)*(a_post + b_post + 1)))\n",
    "\n",
    "            l_mean.append(mu_post)\n",
    "            l_std.append(sig_post)\n",
    "        Mean.append(l_mean)\n",
    "        Std.append(l_std)\n",
    "\n",
    "    return np.array(Mean), np.array(Std)"
   ]
  },
  {
   "cell_type": "code",
   "execution_count": 22,
   "metadata": {},
   "outputs": [],
   "source": [
    "Case_mean, Case_std = get_posterior(Cases)\n",
    "Neuron_mean, Neuron_std = get_posterior(Neurons)"
   ]
  },
  {
   "cell_type": "code",
   "execution_count": 38,
   "metadata": {},
   "outputs": [
    {
     "data": {
      "text/plain": [
       "array([[0.2       , 0.18181818, 0.5       , 0.7       , 0.81818182,\n",
       "        0.81818182, 0.63636364, 0.41666667, 0.2       ],\n",
       "       [0.8       , 0.54545455, 0.6       , 0.3       , 0.27272727,\n",
       "        0.36363636, 0.36363636, 0.33333333, 0.7       ],\n",
       "       [0.3       , 0.45454545, 0.4       , 0.4       , 0.63636364,\n",
       "        0.63636364, 0.63636364, 0.58333333, 0.4       ],\n",
       "       [0.2       , 0.36363636, 0.5       , 0.6       , 0.72727273,\n",
       "        0.72727273, 0.54545455, 0.25      , 0.2       ],\n",
       "       [0.8       , 0.72727273, 0.7       , 0.5       , 0.27272727,\n",
       "        0.36363636, 0.27272727, 0.41666667, 0.4       ],\n",
       "       [0.3       , 0.36363636, 0.6       , 0.7       , 0.81818182,\n",
       "        0.72727273, 0.63636364, 0.16666667, 0.2       ],\n",
       "       [0.2       , 0.27272727, 0.3       , 0.5       , 0.81818182,\n",
       "        0.81818182, 0.72727273, 0.41666667, 0.3       ],\n",
       "       [0.5       , 0.27272727, 0.4       , 0.2       , 0.27272727,\n",
       "        0.36363636, 0.72727273, 0.83333333, 0.8       ],\n",
       "       [0.4       , 0.54545455, 0.8       , 0.8       , 0.63636364,\n",
       "        0.45454545, 0.18181818, 0.25      , 0.4       ],\n",
       "       [0.8       , 0.18181818, 0.2       , 0.2       , 0.18181818,\n",
       "        0.45454545, 0.81818182, 0.83333333, 0.8       ]])"
      ]
     },
     "execution_count": 38,
     "metadata": {},
     "output_type": "execute_result"
    }
   ],
   "source": [
    "Case_mean"
   ]
  },
  {
   "cell_type": "code",
   "execution_count": 37,
   "metadata": {},
   "outputs": [
    {
     "name": "stderr",
     "output_type": "stream",
     "text": [
      "3628800it [01:41, 35791.47it/s]"
     ]
    },
    {
     "name": "stdout",
     "output_type": "stream",
     "text": [
      "Least Square Perm Matrix\n",
      "[[0. 0. 0. 0. 0. 1. 0. 0. 0. 0.]\n",
      " [0. 0. 1. 0. 0. 0. 0. 0. 0. 0.]\n",
      " [0. 0. 0. 0. 0. 0. 1. 0. 0. 0.]\n",
      " [0. 0. 0. 0. 0. 0. 0. 1. 0. 0.]\n",
      " [0. 0. 0. 0. 1. 0. 0. 0. 0. 0.]\n",
      " [1. 0. 0. 0. 0. 0. 0. 0. 0. 0.]\n",
      " [0. 1. 0. 0. 0. 0. 0. 0. 0. 0.]\n",
      " [0. 0. 0. 1. 0. 0. 0. 0. 0. 0.]\n",
      " [0. 0. 0. 0. 0. 0. 0. 0. 1. 0.]\n",
      " [0. 0. 0. 0. 0. 0. 0. 0. 0. 1.]]\n"
     ]
    },
    {
     "name": "stderr",
     "output_type": "stream",
     "text": [
      "\n"
     ]
    }
   ],
   "source": [
    "from itertools import permutations\n",
    "from tqdm import tqdm\n",
    "min_ls_error = np.inf\n",
    "P_ls_2 = None\n",
    "\n",
    "for perm in tqdm(permutations(range(10))):\n",
    "    P = np.eye(10)[list(perm)]\n",
    "    ls_error = np.linalg.norm(Case_mean - P @ Neuron_mean)\n",
    "    if ls_error < min_ls_error:\n",
    "        min_ls_error = ls_error\n",
    "        P_ls_2 = P\n",
    "    \n",
    "print('Least Square Perm Matrix')\n",
    "print(P_ls_2)\n"
   ]
  },
  {
   "cell_type": "code",
   "execution_count": 34,
   "metadata": {},
   "outputs": [],
   "source": [
    "from numpy.linalg import pinv\n",
    "P_pseudo = Case_mean @ pinv(Neuron_mean)"
   ]
  },
  {
   "cell_type": "code",
   "execution_count": 36,
   "metadata": {},
   "outputs": [
    {
     "data": {
      "text/plain": [
       "array([5, 2, 6, 5, 8, 7, 2, 3, 5, 9])"
      ]
     },
     "execution_count": 36,
     "metadata": {},
     "output_type": "execute_result"
    }
   ],
   "source": [
    "np.argmax(P_pseudo, 1)"
   ]
  },
  {
   "cell_type": "code",
   "execution_count": null,
   "metadata": {},
   "outputs": [],
   "source": []
  }
 ],
 "metadata": {
  "kernelspec": {
   "display_name": "Python 3",
   "language": "python",
   "name": "python3"
  },
  "language_info": {
   "codemirror_mode": {
    "name": "ipython",
    "version": 3
   },
   "file_extension": ".py",
   "mimetype": "text/x-python",
   "name": "python",
   "nbconvert_exporter": "python",
   "pygments_lexer": "ipython3",
   "version": "3.11.3"
  }
 },
 "nbformat": 4,
 "nbformat_minor": 2
}
