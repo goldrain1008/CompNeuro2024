{
 "cells": [
  {
   "cell_type": "code",
   "execution_count": 5,
   "metadata": {},
   "outputs": [
    {
     "name": "stdout",
     "output_type": "stream",
     "text": [
      "[  0.  20.  40.  60.  80. 100. 120. 140. 160.]\n"
     ]
    }
   ],
   "source": [
    "import numpy as np\n",
    "import scipy\n",
    "import pandas as pd \n",
    "import seaborn as sns\n",
    "import matplotlib.pyplot as plt\n",
    "from itertools import product\n",
    "import os\n",
    "from utils import get_sample_freq, get_test_freq, get_stimulus, remove_outliers\n",
    "\n",
    "mode = 'Frequency'\n",
    "starting_point = 1.0\n",
    "window_size = 2.5\n",
    "\n",
    "sample_path = f'./sample_{mode}/data_sp{starting_point}ws{window_size}/sample_spike_neuron'\n",
    "test_path = f'./test_{mode}/data_sp{starting_point}ws{window_size}/test_spike_case'\n",
    "\n",
    "#starting_point_types = [0,0.1,0.2,0.3,0.4,0.5,0.6,0.7,0.8,0.9,1.]\n",
    "#window_size_types = [1,1.5,2,2.5,3,3.5,4]\n",
    "\n",
    "stimulus_raw = scipy.io.loadmat('dat_stimulus.mat')\n",
    "spk_sample_raw = scipy.io.loadmat('dat_spk_sample.mat')\n",
    "spk_test_raw = scipy.io.loadmat('dat_spk_test.mat')\n",
    "\n",
    "stimulus = stimulus_raw['stimulus']\n",
    "spk_sample = spk_sample_raw['spk_sample']\n",
    "spk_test = spk_test_raw['spk_test']\n",
    "\n",
    "degrees = np.unique(stimulus[:,1])\n",
    "print(degrees)"
   ]
  },
  {
   "cell_type": "code",
   "execution_count": 6,
   "metadata": {},
   "outputs": [],
   "source": [
    "def get_data(i, type = 'Neuron'):\n",
    "    if type.lower() == 'neuron':\n",
    "        return pd.read_csv(sample_path + f'{i}.csv')\n",
    "    elif type.lower() == 'case':\n",
    "        return pd.read_csv(test_path + f'{i}.csv')"
   ]
  },
  {
   "cell_type": "code",
   "execution_count": 12,
   "metadata": {},
   "outputs": [],
   "source": [
    "##make_binomial\n",
    "def get_likelihood(df, percentile_threshold = 50):\n",
    "    result = {}\n",
    "    thr = np.percentile(df[mode].values, q = percentile_threshold)\n",
    "    for degree in degrees:\n",
    "        l = (df[df['Degree'] == int(degree)][mode].values > thr)*1\n",
    "        result[int(degree)] = l\n",
    "    return result\n",
    "\n",
    "Neurons = {}\n",
    "for n in np.arange(1,11):\n",
    "    df = get_data(n, type = 'Neuron')\n",
    "    Neurons[n] = get_likelihood(df)\n",
    "\n",
    "Cases = {}\n",
    "for n in np.arange(1,11):\n",
    "    df = get_data(n, type = 'Case')\n",
    "    Cases[n] = get_likelihood(df)"
   ]
  },
  {
   "cell_type": "code",
   "execution_count": 39,
   "metadata": {},
   "outputs": [],
   "source": [
    "## Frequentist approach\n",
    "\n",
    "#Binomial distribution: \n",
    "    # X ~ Bin(n, p), then E(X) = np, Var(X) = np(1-p)\n",
    "from math import sqrt\n",
    "def get_MLE(data_dict):\n",
    "    Mean = []\n",
    "    Std = []\n",
    "\n",
    "    for i in data_dict:\n",
    "        l = data_dict[i]\n",
    "        l_mean = []\n",
    "        l_std = []\n",
    "        for degree in degrees:\n",
    "            n = len(l[degree])\n",
    "            s = sum(l[degree])\n",
    "            f = n - s\n",
    "\n",
    "            p = s / n \n",
    "\n",
    "            mu_hat = n * p\n",
    "            sig_hat = sqrt(n * p * (1-p))\n",
    "\n",
    "            l_mean.append(mu_hat)\n",
    "            l_std.append(sig_hat)\n",
    "\n",
    "        Mean.append(l_mean)\n",
    "        Std.append(l_std)\n",
    "\n",
    "    return np.array(Mean), np.array(Std)\n"
   ]
  },
  {
   "cell_type": "code",
   "execution_count": 43,
   "metadata": {},
   "outputs": [],
   "source": [
    "Freq_Neuron_mean, Freq_Neuron_std = get_MLE(Neurons)\n",
    "Freq_Case_mean, Freq_Case_std = get_MLE(Cases)"
   ]
  },
  {
   "cell_type": "markdown",
   "metadata": {},
   "source": [
    "Bayes rule: posterior = likelihood * prior / evidence\n",
    "evidence 는 구하기 힘듦으로 보통 posterior 가 likelihood * prior에 비례한다고 많이 함.\n",
    "\n",
    "Beta Distribution & Binomial-Beta conjugacy \n",
    "\n",
    "Conjugacy prior: "
   ]
  },
  {
   "cell_type": "code",
   "execution_count": 21,
   "metadata": {},
   "outputs": [],
   "source": [
    "## Bayesian Approach \n",
    "from math import sqrt\n",
    "\n",
    "#Set prior parameters\n",
    "a0 = 2.\n",
    "b0 = 2.\n",
    "\n",
    "def get_posterior(data_dict, a0 = 2., b0 = 2.):\n",
    "    Mean = []\n",
    "    Std = []\n",
    "\n",
    "    for i in data_dict:\n",
    "        l = data_dict[i]\n",
    "        l_mean = []\n",
    "        l_std = []\n",
    "        for degree in degrees:\n",
    "            n = len(l[degree])\n",
    "            s = sum(l[degree])\n",
    "            f = n - s\n",
    "\n",
    "            a_post = a0 + s\n",
    "            b_post = b0 + f\n",
    "\n",
    "            #Compute mean & std of the posterior distribution\n",
    "            mu_post = a_post / (a_post + b_post)\n",
    "            sig_post = sqrt((a_post*b_post)/(((a_post + b_post)**2)*(a_post + b_post + 1)))\n",
    "\n",
    "            l_mean.append(mu_post)\n",
    "            l_std.append(sig_post)\n",
    "        Mean.append(l_mean)\n",
    "        Std.append(l_std)\n",
    "\n",
    "    return np.array(Mean), np.array(Std)"
   ]
  },
  {
   "cell_type": "code",
   "execution_count": 22,
   "metadata": {},
   "outputs": [],
   "source": [
    "Bayes_Neuron_mean, Bayes_Neuron_std = get_posterior(Neurons)\n",
    "Bayes_Case_mean, Bayes_Case_std = get_posterior(Cases)"
   ]
  },
  {
   "cell_type": "code",
   "execution_count": 41,
   "metadata": {},
   "outputs": [],
   "source": [
    "from itertools import permutations\n",
    "from tqdm import tqdm\n",
    "\n",
    "\n",
    "def estimate_permutation(Case_mean, Neuron_mean):\n",
    "    min_ls_error = np.inf\n",
    "    P_ls_2 = None\n",
    "\n",
    "    for perm in tqdm(permutations(range(10))):\n",
    "        P = np.eye(10)[list(perm)]\n",
    "        ls_error = np.linalg.norm(Case_mean - P @ Neuron_mean)\n",
    "        if ls_error < min_ls_error:\n",
    "            min_ls_error = ls_error\n",
    "            P_ls_2 = P\n",
    "        \n",
    "    print('Least Square Perm Matrix')\n",
    "    print(P_ls_2)\n",
    "\n",
    "    return P_ls_2, min_ls_error\n"
   ]
  },
  {
   "cell_type": "code",
   "execution_count": 42,
   "metadata": {},
   "outputs": [
    {
     "name": "stderr",
     "output_type": "stream",
     "text": [
      "3628800it [01:29, 40488.33it/s]"
     ]
    },
    {
     "name": "stdout",
     "output_type": "stream",
     "text": [
      "Least Square Perm Matrix\n",
      "[[0. 0. 0. 0. 0. 1. 0. 0. 0. 0.]\n",
      " [0. 0. 1. 0. 0. 0. 0. 0. 0. 0.]\n",
      " [0. 0. 0. 0. 0. 0. 1. 0. 0. 0.]\n",
      " [0. 0. 0. 0. 0. 0. 0. 1. 0. 0.]\n",
      " [0. 0. 0. 0. 1. 0. 0. 0. 0. 0.]\n",
      " [1. 0. 0. 0. 0. 0. 0. 0. 0. 0.]\n",
      " [0. 1. 0. 0. 0. 0. 0. 0. 0. 0.]\n",
      " [0. 0. 0. 1. 0. 0. 0. 0. 0. 0.]\n",
      " [0. 0. 0. 0. 0. 0. 0. 0. 1. 0.]\n",
      " [0. 0. 0. 0. 0. 0. 0. 0. 0. 1.]]\n"
     ]
    },
    {
     "name": "stderr",
     "output_type": "stream",
     "text": [
      "\n"
     ]
    }
   ],
   "source": [
    "P, error = estimate_permutation(Case_mean=Freq_Case_mean, Neuron_mean=Freq_Neuron_mean)"
   ]
  },
  {
   "cell_type": "code",
   "execution_count": null,
   "metadata": {},
   "outputs": [],
   "source": [
    "P, error = estimate_permutation(Case_mean=Bayes_Case_mean, Neuron_mean=Bayes_Neuron_mean)"
   ]
  },
  {
   "cell_type": "code",
   "execution_count": null,
   "metadata": {},
   "outputs": [],
   "source": []
  }
 ],
 "metadata": {
  "kernelspec": {
   "display_name": "Python 3",
   "language": "python",
   "name": "python3"
  },
  "language_info": {
   "codemirror_mode": {
    "name": "ipython",
    "version": 3
   },
   "file_extension": ".py",
   "mimetype": "text/x-python",
   "name": "python",
   "nbconvert_exporter": "python",
   "pygments_lexer": "ipython3",
   "version": "3.11.3"
  }
 },
 "nbformat": 4,
 "nbformat_minor": 2
}
