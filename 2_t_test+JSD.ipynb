{
 "cells": [
  {
   "cell_type": "code",
   "execution_count": null,
   "metadata": {},
   "outputs": [],
   "source": [
    "import numpy as np\n",
    "import scipy\n",
    "import pandas as pd \n",
    "import seaborn as sns\n",
    "import matplotlib.pyplot as plt\n",
    "from itertools import product\n",
    "import os\n",
    "from utils import get_sample_freq, get_test_freq, get_stimulus, remove_outliers\n",
    "from scipy.stats import ttest_ind, levene\n",
    "\n",
    "mode = 'Frequency'\n",
    "starting_point_types = [0,0.1,0.2,0.3,0.4,0.5,0.6,0.7,0.8,0.9,1.]\n",
    "window_size_types = [1,1.5,2,2.5,3,3.5,4]\n",
    "\n",
    "stimulus_raw = scipy.io.loadmat('dat_stimulus.mat')\n",
    "spk_sample_raw = scipy.io.loadmat('dat_spk_sample.mat')\n",
    "spk_test_raw = scipy.io.loadmat('dat_spk_test.mat')\n",
    "\n",
    "stimulus = stimulus_raw['stimulus']\n",
    "spk_sample = spk_sample_raw['spk_sample']\n",
    "spk_test = spk_test_raw['spk_test']"
   ]
  },
  {
   "cell_type": "code",
   "execution_count": null,
   "metadata": {},
   "outputs": [],
   "source": [
    "result_DataFrame = pd.DataFrame(columns= ['Starting Point', 'Window Size'] + [f'Case {i+1}' for i in range(10)])\n",
    "\n",
    "for starting_point, window_size in product(starting_point_types,window_size_types):\n",
    "    row = {'Starting Point': [starting_point], 'Window Size': [window_size]}\n",
    "    significance_level = 0.1\n",
    "    ans = []\n",
    "    for test_num in range(1, 11):\n",
    "        test_spike = pd.read_csv(f'./test_{mode}/data_sp{starting_point}ws{window_size}/test_spike_case{test_num}.csv')\n",
    "        candidate = []\n",
    "        for i in range(1, 11):\n",
    "            sample_spike = pd.read_csv(f'./sample_{mode}/data_sp{starting_point}ws{window_size}/sample_spike_neuron{i}.csv')\n",
    "            p_list = []\n",
    "            for degree in np.unique(stimulus[:,1]):\n",
    "                test = remove_outliers(test_spike[test_spike['Degree'] == int(degree)][mode].values)\n",
    "                sample = remove_outliers(sample_spike[sample_spike['Degree'] == int(degree)][mode].values)\n",
    "                _, p_eqv = levene(test, sample)\n",
    "                #if p_eqv < 0.05: ##Seems the all experiments fail to reject non-equnivariance hypothesis.\n",
    "                # Should not completely trust the t-test result. Only take care it for EDA\n",
    "                _, p = ttest_ind(test, sample)\n",
    "                p_list.append(p >= significance_level)\n",
    "            if sum(p_list) > 6:\n",
    "                candidate.append(i)\n",
    "        if len(candidate) == 0:\n",
    "            ans.append(None)\n",
    "        elif len(candidate) == 1:\n",
    "            ans.append(candidate[0])\n",
    "        elif len(candidate) > 1:\n",
    "            ans.append(tuple(candidate))\n",
    "    for i, val in enumerate(ans):\n",
    "        row[f'Case {i+1}'] = [val]\n",
    "    \n",
    "    if None not in ans:\n",
    "        result_DataFrame = pd.concat([result_DataFrame, pd.DataFrame(row)], axis=0)\n",
    "result_DataFrame.to_csv('evenmoreAblation_noNone_noOutliers.csv', index = False)"
   ]
  },
  {
   "cell_type": "code",
   "execution_count": null,
   "metadata": {},
   "outputs": [],
   "source": []
  }
 ],
 "metadata": {
  "language_info": {
   "name": "python"
  }
 },
 "nbformat": 4,
 "nbformat_minor": 2
}
