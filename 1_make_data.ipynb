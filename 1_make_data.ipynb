{
 "cells": [
  {
   "cell_type": "code",
   "execution_count": 2,
   "metadata": {},
   "outputs": [],
   "source": [
    "import numpy as np\n",
    "import scipy\n",
    "import pandas as pd \n",
    "import seaborn as sns\n",
    "import matplotlib.pyplot as plt\n",
    "from itertools import product\n",
    "import os\n",
    "from utils import get_sample_freq, get_test_freq, get_stimulus, remove_outliers\n",
    "from scipy.stats import ttest_ind, levene\n",
    "\n",
    "mode = 'Frequency'\n",
    "starting_point_types = [0.0,0.25,0.5,0.75,1.0,1.25,1.5,1.75,2.0]\n",
    "window_size_types = [1.0,1.5,2.0,2.5,3.0]\n",
    "\n",
    "stimulus_raw = scipy.io.loadmat('dat_stimulus.mat')\n",
    "spk_sample_raw = scipy.io.loadmat('dat_spk_sample.mat')\n",
    "spk_test_raw = scipy.io.loadmat('dat_spk_test.mat')\n",
    "\n",
    "stimulus = stimulus_raw['stimulus']\n",
    "spk_sample = spk_sample_raw['spk_sample']\n",
    "spk_test = spk_test_raw['spk_test']"
   ]
  },
  {
   "cell_type": "code",
   "execution_count": 3,
   "metadata": {},
   "outputs": [],
   "source": [
    "for starting_point, window_size in product(starting_point_types,window_size_types):\n",
    "    #mode = 'Frequency'\n",
    "    #print(f'Start point: {starting_point}s after a stimulus')\n",
    "    #print(f'Window Size: {window_size}s')\n",
    "    #print(f'End point: {starting_point + window_size}s after a stimulus')\n",
    "    os.makedirs(f'./sample_{mode}/data_sp{starting_point}ws{window_size}', exist_ok=True)\n",
    "    os.makedirs(f'./test_{mode}/data_sp{starting_point}ws{window_size}', exist_ok=True)\n",
    "\n",
    "    for i in range(1, 11):\n",
    "        df_sample = get_sample_freq(i, start_gap=starting_point, window_size= window_size, mode = mode)\n",
    "        df_test = get_test_freq(i, start_gap=starting_point, window_size= window_size, mode = mode)\n",
    "\n",
    "        df_sample.to_csv(f'./sample_{mode}/data_sp{starting_point}ws{window_size}/sample_spike_neuron{i}.csv')\n",
    "        df_test.to_csv(f'./test_{mode}/data_sp{starting_point}ws{window_size}/test_spike_case{i}.csv', index = False)\n",
    "\n",
    "\n"
   ]
  }
 ],
 "metadata": {
  "kernelspec": {
   "display_name": "test_env",
   "language": "python",
   "name": "python3"
  },
  "language_info": {
   "codemirror_mode": {
    "name": "ipython",
    "version": 3
   },
   "file_extension": ".py",
   "mimetype": "text/x-python",
   "name": "python",
   "nbconvert_exporter": "python",
   "pygments_lexer": "ipython3",
   "version": "3.11.3"
  }
 },
 "nbformat": 4,
 "nbformat_minor": 2
}
